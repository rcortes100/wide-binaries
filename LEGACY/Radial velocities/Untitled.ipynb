{
 "cells": [
  {
   "cell_type": "code",
   "execution_count": 2,
   "metadata": {},
   "outputs": [],
   "source": [
    "%matplotlib nbagg"
   ]
  },
  {
   "cell_type": "code",
   "execution_count": 3,
   "metadata": {},
   "outputs": [],
   "source": [
    "import numpy as np\n",
    "import pandas as pd\n",
    "import matplotlib.pyplot as plt\n",
    "import sys"
   ]
  },
  {
   "cell_type": "code",
   "execution_count": 4,
   "metadata": {},
   "outputs": [],
   "source": [
    "#Directorio de las fuentes\n",
    "#prefix='~/Gaia/gdr2/gaia_source_with_rv/csv/'\n",
    "prefix='/media/lupido/8159d3de-fe00-476a-9d18-c5d420970f2f/KINGSTON/cdn.gea.esac.esa.int/Gaia/gdr2/gaia_source_with_rv/csv/'\n",
    "\n",
    "#Archivos\n",
    "sources = ['GaiaSource_2851858288640_1584379458008952960.csv.gz',\n",
    "           'GaiaSource_1584380076484244352_2200921635402776448.csv.gz',\n",
    "           'GaiaSource_2200921875920933120_3650804325670415744.csv.gz',\n",
    "           'GaiaSource_3650805523966057472_4475721411269270528.csv.gz',\n",
    "           'GaiaSource_4475722064104327936_5502601461277677696.csv.gz',\n",
    "           'GaiaSource_5502601873595430784_5933051501826387072.csv.gz',\n",
    "           'GaiaSource_5933051914143228928_6714230117939284352.csv.gz',\n",
    "           'GaiaSource_6714230465835878784_6917528443525529728.csv.gz']\n",
    "\n",
    "#Columnas útiles\n",
    "useful = [\n",
    "#          'solution_id', 'designation',\n",
    "          'source_id',\n",
    "#          'random_index', 'ref_epoch',\n",
    "          'ra', 'ra_error', 'dec', 'dec_error', 'parallax', 'parallax_error',\n",
    "#          'parallax_over_error',\n",
    "          'pmra', 'pmra_error', 'pmdec', 'pmdec_error',\n",
    "#          'ra_dec_corr', 'ra_parallax_corr', 'ra_pmra_corr', 'ra_pmdec_corr',\n",
    "#          'dec_parallax_corr', 'dec_pmra_corr', 'dec_pmdec_corr',\n",
    "#                              'parallax_pmra_corr', 'parallax_pmdec_corr', 'pmra_pmdec_corr',\n",
    "#                              'astrometric_n_obs_al', 'astrometric_n_obs_ac',\n",
    "#                              'astrometric_n_good_obs_al', 'astrometric_n_bad_obs_al',\n",
    "#                              'astrometric_gof_al', 'astrometric_chi2_al', 'astrometric_excess_noise',\n",
    "#                              'astrometric_excess_noise_sig', 'astrometric_params_solved',\n",
    "#                              'astrometric_primary_flag', 'astrometric_weight_al',\n",
    "#                              'astrometric_pseudo_colour', 'astrometric_pseudo_colour_error',\n",
    "#                              'mean_varpi_factor_al', 'astrometric_matched_observations',\n",
    "#                              'visibility_periods_used', 'astrometric_sigma5d_max',\n",
    "#                              'frame_rotator_object_type', 'matched_observations',\n",
    "                              'duplicated_source',\n",
    "                              'phot_g_n_obs', 'phot_g_mean_flux',\n",
    "                              'phot_g_mean_flux_error', 'phot_g_mean_flux_over_error',\n",
    "                              'phot_g_mean_mag', 'phot_bp_n_obs', 'phot_bp_mean_flux',\n",
    "                              'phot_bp_mean_flux_error', 'phot_bp_mean_flux_over_error',\n",
    "                              'phot_bp_mean_mag', 'phot_rp_n_obs', 'phot_rp_mean_flux',\n",
    "                              'phot_rp_mean_flux_error', 'phot_rp_mean_flux_over_error',\n",
    "                              'phot_rp_mean_mag', 'phot_bp_rp_excess_factor', 'phot_proc_mode',\n",
    "                              'bp_rp', 'bp_g', 'g_rp',\n",
    "                              'radial_velocity', 'radial_velocity_error',\n",
    "#                              'rv_nb_transits', 'rv_template_teff', 'rv_template_logg',\n",
    "#                              'rv_template_fe_h', 'phot_variable_flag', 'l', 'b', 'ecl_lon',\n",
    "#                              'ecl_lat', 'priam_flags',\n",
    "                              'teff_val']\n",
    "#                              'teff_percentile_lower',\n",
    "#                              'teff_percentile_upper', 'a_g_val', 'a_g_percentile_lower',\n",
    "#                              'a_g_percentile_upper', 'e_bp_min_rp_val',\n",
    "#                              'e_bp_min_rp_percentile_lower', 'e_bp_min_rp_percentile_upper',\n",
    "#                              'flame_flags', 'radius_val', 'radius_percentile_lower',\n",
    "#                              'radius_percentile_upper', 'lum_val', 'lum_percentile_lower',\n",
    "#                              'lum_percentile_upper'])"
   ]
  },
  {
   "cell_type": "code",
   "execution_count": 5,
   "metadata": {},
   "outputs": [],
   "source": [
    "table0 = pd.read_csv(prefix+sources[0],\n",
    "                     usecols=useful)\n",
    "table1 = pd.read_csv(prefix+sources[1],\n",
    "                     usecols=useful)\n",
    "table2 = pd.read_csv(prefix+sources[2],\n",
    "                     usecols=useful)\n",
    "table3 = pd.read_csv(prefix+sources[3],\n",
    "                     usecols=useful)\n",
    "table4 = pd.read_csv(prefix+sources[4],\n",
    "                     usecols=useful)\n",
    "table5 = pd.read_csv(prefix+sources[5],\n",
    "                     usecols=useful)\n",
    "table6 = pd.read_csv(prefix+sources[6],\n",
    "                     usecols=useful)\n",
    "table7 = pd.read_csv(prefix+sources[7],\n",
    "                     usecols=useful)"
   ]
  },
  {
   "cell_type": "code",
   "execution_count": 11,
   "metadata": {},
   "outputs": [],
   "source": [
    "csv_rv = pd.concat([table0,table1,table2,table3,table4,table5,table6,table7])\n",
    "pd.to_pickle(csv_rv,prefix+'csv_rv.pkl')"
   ]
  },
  {
   "cell_type": "code",
   "execution_count": 10,
   "metadata": {},
   "outputs": [
    {
     "data": {
      "text/plain": [
       "(7224631, 35)"
      ]
     },
     "execution_count": 10,
     "metadata": {},
     "output_type": "execute_result"
    }
   ],
   "source": [
    "csv_rv.shape"
   ]
  },
  {
   "cell_type": "code",
   "execution_count": null,
   "metadata": {},
   "outputs": [],
   "source": [
    "fig = plt.figure(figsize=(6,5),dpi=150)\n",
    "figname='Mapa'\n",
    "fnt=14\n",
    "\n",
    "plt.xlabel('ra',fontsize=fnt)\n",
    "plt.ylabel('dec',fontsize=fnt)\n",
    "#plt.suptitle(r'Por separación física')\n",
    "#plt.title('Binarias, sin seleccionar')\n",
    "\n",
    "plt.xlim(0,450)\n",
    "plt.ylim(-90,90)\n",
    "\n",
    "#table1.plot.scatter('ra','dec')\n",
    "#table2.plot.scatter('ra','dec')\n",
    "\"\"\"\n",
    "\"\"\"\n",
    "plt.plot(table1.ra,table1.dec,\n",
    "         '.',\n",
    "        label='1')\n",
    "plt.plot(table2.ra,table2.dec,\n",
    "         '.',\n",
    "        label='2')\n",
    "plt.plot(table3.ra,table3.dec,\n",
    "         '.',\n",
    "        label='3')\n",
    "\n",
    "plt.plot(table4.ra,table4.dec,\n",
    "         '.',\n",
    "        label='4')\n",
    "        \n",
    "plt.plot(table5.ra,table5.dec,\n",
    "         '.',\n",
    "        label='5')\n",
    "\n",
    "plt.plot(table6.ra,table6.dec,\n",
    "         '.',\n",
    "        label='6')\n",
    "        \n",
    "plt.plot(table7.ra,table7.dec,\n",
    "         '.',\n",
    "        label='7')\n",
    "\n",
    "plt.plot(table8.ra,table8.dec,\n",
    "         '.',\n",
    "        label='8')\n",
    "\n",
    "plt.legend()"
   ]
  },
  {
   "cell_type": "code",
   "execution_count": null,
   "metadata": {},
   "outputs": [],
   "source": [
    "table1.combine?"
   ]
  },
  {
   "cell_type": "code",
   "execution_count": null,
   "metadata": {},
   "outputs": [],
   "source": []
  }
 ],
 "metadata": {
  "kernelspec": {
   "display_name": "Python 3",
   "language": "python",
   "name": "python3"
  },
  "language_info": {
   "codemirror_mode": {
    "name": "ipython",
    "version": 3
   },
   "file_extension": ".py",
   "mimetype": "text/x-python",
   "name": "python",
   "nbconvert_exporter": "python",
   "pygments_lexer": "ipython3",
   "version": "3.6.7"
  }
 },
 "nbformat": 4,
 "nbformat_minor": 2
}

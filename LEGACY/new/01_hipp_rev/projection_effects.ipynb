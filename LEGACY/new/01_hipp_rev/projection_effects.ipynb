{
 "cells": [
  {
   "cell_type": "markdown",
   "metadata": {},
   "source": [
    "# Projection effects"
   ]
  },
  {
   "cell_type": "markdown",
   "metadata": {},
   "source": [
    "To calculate the projection effect due to the unconcordance of the frame of reference of both stars in the binary system, we use the following formulae (Smart, Stellar Kinematics, p.16), relating the velocity components of a star in a canonical euclidean frame of reference (U,V,W) to the spherical frame of reference centered in the star ($\\mu_\\alpha$,$\\mu_\\delta$,R):\n",
    "\n",
    "\\begin{align}\n",
    "\t-U\\sin \\alpha \t\t\t\t&+ V \\cos \\alpha & \t\t\t\t  &= \\kappa \\frac{\\mu_\\alpha}{p} \\cos \\delta \t\\\\\n",
    "\t-U\\cos \\alpha \\sin \\delta\t&- V \\sin \\alpha \\sin \\delta &+ W \\cos \\delta &= \\kappa \\frac{\\mu_\\delta}{p}\t\\\\\t\n",
    "\t U\\cos \\alpha \\cos \\delta\t&+ V \\sin \\alpha \\cos \\delta &+ W \\sin \\delta &= R\t\t\t\t\n",
    "\\end{align}\n",
    "\n",
    "And $\\kappa$ is the appropriate constant to match units. When using proper motions in mas/yr and parallaxes in mas, then: \n",
    "\n",
    "\\begin{equation*}\n",
    "\\kappa = 1000 \\left( \\frac{\\pi}{180 \\times 3600 \\times 1000} \\right) \\left( 3.08567802 \\times 10^{13} \\right) \\left( \\frac{1}{3.1558149984 \\times 10^{7}} \\right) = 4.7403885219933555\n",
    "\\end{equation*}\n",
    "\n",
    "to obtain km/s\n",
    "\n",
    "From this set of equations, we can solve for $U,V,W$:\n",
    "\n",
    "\\begin{align}\n",
    "U &= -\\kappa \\frac{\\mu_\\alpha}{p} \\cos \\delta \\sin \\alpha &- \\kappa \\frac{\\mu_\\delta}{p} \\cos \\alpha \\sin \\delta &+ R \\cos \\alpha \\cos \\delta \\\\\n",
    "V &=  \\kappa \\frac{\\mu_\\alpha}{p} \\cos \\delta \\cos \\alpha &- \\kappa \\frac{\\mu_\\delta}{p} \\sin \\alpha \\sin \\delta &+ R \\sin \\alpha \\cos \\delta \\\\\n",
    "W &=  & \\kappa \\frac{\\mu_\\delta}{p} \\cos \\delta &+ R \\sin \\delta\n",
    "\\end{align}\n",
    "\n",
    "and thus, translate the velocities to the canonical frame of reference (x,y,z)."
   ]
  },
  {
   "cell_type": "markdown",
   "metadata": {},
   "source": [
    "In this way, we can go back and forth from one frame of reference to another. To correct for the spherical projection effects, we need to have the velocities of both stars in the same frame of reference. So, we first have the components for the Primary star $(\\mu_{\\alpha p},\\mu_{\\delta p},R_{p})$, then we translate them to the canonical frame of reference, and then we go back to an spherical frame of reference, but respect to the Companion.\n",
    "\\begin{equation*}\n",
    "    \\begin{pmatrix}\n",
    "    \\kappa\\frac{\\mu_{\\alpha p}'}{p_{c}}\\cos \\delta_{c}\\\\\n",
    "    \\kappa\\frac{\\mu_{\\delta p}'}{p_{c}}\\\\\n",
    "    R_{p}'\n",
    "    \\end{pmatrix}\n",
    "    =\n",
    "\\end{equation*}\n",
    "\\begin{equation}\n",
    " \\begin{pmatrix}\n",
    "  -\\sin \\alpha_{c}                  &  \\cos \\alpha_{c}                   &          0         \\\\\n",
    "  -\\cos \\alpha_{c} \\sin \\delta_{c}  & -\\sin \\alpha_{c} \\sin \\delta_{c} &  \\cos \\delta_{c} \\\\\n",
    "   \\cos \\alpha_{c} \\cos \\delta_{c}  &  \\sin \\alpha_{c} \\cos \\delta_{c} &  \\sin \\delta_{c}  \n",
    " \\end{pmatrix}\n",
    " \\begin{pmatrix}\n",
    "   -\\sin \\alpha_{p}  & -\\cos \\alpha_{p} \\sin \\delta_{p} &  \\cos \\alpha_{p} \\cos \\delta_{p} \\\\\n",
    "  \\cos \\alpha_{p}  & -\\sin \\alpha_{p} \\sin \\delta_{p} &  \\sin \\alpha_{p} \\cos \\delta_{p} \\\\\n",
    "  0                 &  \\cos \\delta_{p}                 &  \\sin \\delta_{p}  \n",
    " \\end{pmatrix}\n",
    " \\begin{pmatrix}\n",
    "   \\kappa\\frac{\\mu_{\\alpha p}}{p_{p}}\\cos \\delta_{p}\\\\\n",
    "   \\kappa\\frac{\\mu_{\\delta p}}{p_{p}}\\\\\n",
    "   R_{p}\\\\\n",
    " \\end{pmatrix}\n",
    "\\end{equation}"
   ]
  },
  {
   "cell_type": "markdown",
   "metadata": {},
   "source": [
    "The primed components are now in the same frame of reference as the Companion, so that we can calculate the amount of correction made, simply by substracting:\n",
    "\\begin{align}\n",
    "\\Delta \\mu_\\alpha &= \\mu_{\\alpha p} - \\mu_{\\alpha p}' \\\\\n",
    "\\Delta \\mu_\\delta &= \\mu_{\\delta p} - \\mu_{\\delta p}'\n",
    "\\end{align}"
   ]
  },
  {
   "cell_type": "markdown",
   "metadata": {},
   "source": [
    "%%latex\n",
    "\\newpage"
   ]
  },
  {
   "cell_type": "code",
   "execution_count": null,
   "metadata": {},
   "outputs": [],
   "source": []
  }
 ],
 "metadata": {
  "kernelspec": {
   "display_name": "Python 3",
   "language": "python",
   "name": "python3"
  },
  "language_info": {
   "codemirror_mode": {
    "name": "ipython",
    "version": 3
   },
   "file_extension": ".py",
   "mimetype": "text/x-python",
   "name": "python",
   "nbconvert_exporter": "python",
   "pygments_lexer": "ipython3",
   "version": "3.6.9"
  }
 },
 "nbformat": 4,
 "nbformat_minor": 4
}

{
 "cells": [
  {
   "cell_type": "markdown",
   "id": "verified-suggestion",
   "metadata": {},
   "source": [
    "# Selección para Jimenez-Esteban"
   ]
  },
  {
   "cell_type": "markdown",
   "id": "lesser-stretch",
   "metadata": {},
   "source": [
    "Primero se seleccionan en la lista de Jimenez-Estaban las estrellas que sólo están en grupos de 2 (binarias). Después, se pegan en la misma fila para el tratamiento posterior."
   ]
  },
  {
   "cell_type": "code",
   "execution_count": 1,
   "id": "motivated-elephant",
   "metadata": {},
   "outputs": [],
   "source": [
    "import pandas as pd\n",
    "import numpy as np"
   ]
  },
  {
   "cell_type": "code",
   "execution_count": 2,
   "id": "intellectual-transcription",
   "metadata": {},
   "outputs": [],
   "source": [
    "#Cuales pares (o grupos comóviles) aparecen  en ambos catálogos\n",
    "\n",
    "# Importar la tabla de J-E y organizar por GroupID\n",
    "je_raw = pd.read_csv('../data_raw/comovingGaiaDR2_1557810818.csv').rename(columns={'#RA':'RA'}).sort_values(by='GroupID')"
   ]
  },
  {
   "cell_type": "markdown",
   "id": "crucial-attendance",
   "metadata": {},
   "source": [
    "Seleccionamos sólo aquellas que están en grupos de 2"
   ]
  },
  {
   "cell_type": "code",
   "execution_count": 5,
   "id": "persistent-gallery",
   "metadata": {},
   "outputs": [],
   "source": [
    "je_raw = je_raw[je_raw.GroupSize == 2]"
   ]
  },
  {
   "cell_type": "markdown",
   "id": "inappropriate-algeria",
   "metadata": {},
   "source": [
    "Hacer el crossmatch (cuidando de no repetir datos comunes)"
   ]
  },
  {
   "cell_type": "code",
   "execution_count": 6,
   "id": "weekly-reverse",
   "metadata": {},
   "outputs": [],
   "source": [
    "je_cross = pd.merge(je_raw,je_raw[['ra1','dec1','Source_GaiaDR2','GroupID','radial_velocity','radial_velocity_error','parallax','parallax_total_error',\n",
    "                                   'pmra_corrected','pmra_corrected_error','pmdec_corrected','pmdec_corrected_error',\n",
    "                                   'phot_g_mean_mag','phot_bp_mean_mag', 'phot_rp_mean_mag', 'RUWE', 'HRV', 'e_HRV',\n",
    "                                   'D_G', 'Teff', 'Teff_error', 'Av', 'Mass', 'Mass_error', 'td','td_error', 'tms', 'tms_error', 'ECAC']],\n",
    "                    how='outer',on='GroupID')"
   ]
  },
  {
   "cell_type": "markdown",
   "id": "valuable-verse",
   "metadata": {},
   "source": [
    "Las unimos para que aparezcan en un solo renglon"
   ]
  },
  {
   "cell_type": "code",
   "execution_count": 7,
   "id": "virtual-reason",
   "metadata": {},
   "outputs": [],
   "source": [
    "je_cross = je_cross[(je_cross.Sep_ang > 0.) &\n",
    "                    (je_cross.Source_GaiaDR2_x != je_cross.Source_GaiaDR2_y)]"
   ]
  },
  {
   "cell_type": "markdown",
   "id": "municipal-sense",
   "metadata": {},
   "source": [
    "Omitimos las columnas que no van a ser útiles"
   ]
  },
  {
   "cell_type": "code",
   "execution_count": 9,
   "id": "outer-georgia",
   "metadata": {},
   "outputs": [],
   "source": [
    "je_cross = je_cross.drop(columns=['RA','DEC','dis','Source_Tycho2','sbname','sbname_link','GroupID','GroupSize'])"
   ]
  },
  {
   "cell_type": "markdown",
   "id": "final-dancing",
   "metadata": {},
   "source": [
    "Hacemos la selección de calidad de J-E y salvamos:"
   ]
  },
  {
   "cell_type": "markdown",
   "id": "extra-volume",
   "metadata": {},
   "source": [
    "- Con GDR2, encuentran 3741 candidatos a binarias abiertas (pair AND multiple systems)\n",
    "- Usan la mag límite de Ty2 = 11.5 para M completo a 40 pc\n",
    "                                   G completo a 200 pc\n",
    "                                   F completo a 400 pc\n",
    "- Con errores < 10% en p.m. y parallax\n",
    "- Con separaciones < 500,000 AU\n",
    "- Igual paralaje y p.m. en r.a. y dec (dentro de 2.5$\\sigma$ => 0.13 mas; 0.2 mas/yr)\n",
    "- Sin corrección geométrica.\n",
    "    Esto da 3852 candidatos (dobles + múltiples), 11 834 estrellas\n",
    "- Gaia DR2 + RAVE da vr para 3318 de las estrellas.\n",
    "- Con errores < 5 km/s, se reduce a 2877 de Gaia DR-2 y 282 de RAVE\n",
    "- Sólo para 678 pares había RV para ambas componentes.\n",
    "- 16% (108) fueron discrepantes en RV, 66 de los múltiples también\n",
    "- En total, 570 pares con RV concordantes"
   ]
  },
  {
   "cell_type": "code",
   "execution_count": 16,
   "id": "lesser-costume",
   "metadata": {
    "tags": []
   },
   "outputs": [],
   "source": [
    "#je_cross[je_cross.Sep_sky > 495000]\n",
    "je_cross = je_cross[ True &\n",
    "# Quitamos las que no sean concordantes         \n",
    "          (np.abs((je_cross.radial_velocity_y/je_cross.radial_velocity_x-1.)/\n",
    "                  (je_cross.radial_velocity_error_x/je_cross.radial_velocity_x +\n",
    "                   je_cross.radial_velocity_error_y/je_cross.radial_velocity_y)) < 2.5 ) &\n",
    "#         (np.abs(je_cross.pmra_corrected_y-je_cross.pmra_corrected_x) < 2.5*je_cross.pmra_corrected_error_y) &\n",
    "#         (np.abs(je_cross.pmra_corrected_y-je_cross.pmra_corrected_x) < 2.5*je_cross.pmra_corrected_error_x) &\n",
    "#         (np.abs(je_cross.pmdec_corrected_y-je_cross.pmdec_corrected_x) < 2.5*je_cross.pmdec_corrected_error_y) &\n",
    "#         (np.abs(je_cross.pmdec_corrected_y-je_cross.pmdec_corrected_x) < 2.5*je_cross.pmdec_corrected_error_x) &\n",
    "# Quitamos las que no tienen velocidad radial en GDR2         \n",
    "         (~(je_cross.radial_velocity_x.isna() | je_cross.radial_velocity_y.isna())) &\n",
    "# Quitamos las que tengan errores mayores a 5km/s         \n",
    "         (je_cross.radial_velocity_error_x < 5) &\n",
    "         (je_cross.radial_velocity_error_y < 5) &\n",
    "#         (~(je_cross.HRV_x.isna() | je_cross.HRV_y.isna())) &\n",
    "#         (je_cross.e_HRV_x < 5) &\n",
    "#         (je_cross.e_HRV_y < 5) &\n",
    "         True ]"
   ]
  },
  {
   "cell_type": "markdown",
   "id": "fancy-design",
   "metadata": {
    "tags": []
   },
   "source": [
    "Salvamos la lista:"
   ]
  },
  {
   "cell_type": "code",
   "execution_count": 17,
   "id": "premium-yield",
   "metadata": {},
   "outputs": [],
   "source": [
    "je_cross.to_pickle('../data_processed/je_seleccion_best.pkl')"
   ]
  }
 ],
 "metadata": {
  "kernelspec": {
   "display_name": "Python 3",
   "language": "python",
   "name": "python3"
  },
  "language_info": {
   "codemirror_mode": {
    "name": "ipython",
    "version": 3
   },
   "file_extension": ".py",
   "mimetype": "text/x-python",
   "name": "python",
   "nbconvert_exporter": "python",
   "pygments_lexer": "ipython3",
   "version": "3.6.9"
  }
 },
 "nbformat": 4,
 "nbformat_minor": 5
}

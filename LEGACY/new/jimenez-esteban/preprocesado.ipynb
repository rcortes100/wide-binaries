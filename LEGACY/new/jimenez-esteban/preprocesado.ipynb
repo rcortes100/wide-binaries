{
 "cells": [
  {
   "cell_type": "markdown",
   "id": "dramatic-publication",
   "metadata": {},
   "source": [
    "# Preprocesado"
   ]
  },
  {
   "cell_type": "markdown",
   "id": "domestic-stocks",
   "metadata": {},
   "source": [
    "Este script preprocesa la lista de Jimenez-Esteban, y la compara con la de Scarpa, para obtener los pares que sí tienen correspondencia en GDR3"
   ]
  },
  {
   "cell_type": "code",
   "execution_count": 3,
   "id": "earlier-better",
   "metadata": {},
   "outputs": [],
   "source": [
    "import pandas as pd"
   ]
  },
  {
   "cell_type": "code",
   "execution_count": 5,
   "id": "crazy-elizabeth",
   "metadata": {},
   "outputs": [],
   "source": [
    "# Exportar la tabla de csv a formato de pandas\n",
    "\n",
    "spl = pd.read_csv('../data_raw/comovingGaiaDR2_1557810818.csv').rename(columns={'#RA':'RA'})\n",
    "x = spl.sort_values(by='GroupID')\n",
    "#xx = pd.merge(x,x,how='outer',on='GroupID')\n",
    "xx=pd.merge(x,x,how='outer',on='GroupID')[['GroupID','GroupSize_x','Source_GaiaDR2_x','Source_GaiaDR2_y']]\n",
    "xx=xx[xx.Source_GaiaDR2_x > xx.Source_GaiaDR2_y]\n",
    "spl = pd.read_pickle('../data_processed/scarpa_dec_2018.pkl').rename(columns={'#id_1':'Id_x',\n",
    "                                                                              'id_2':'Id_y'})"
   ]
  }
 ],
 "metadata": {
  "kernelspec": {
   "display_name": "Python 3",
   "language": "python",
   "name": "python3"
  },
  "language_info": {
   "codemirror_mode": {
    "name": "ipython",
    "version": 3
   },
   "file_extension": ".py",
   "mimetype": "text/x-python",
   "name": "python",
   "nbconvert_exporter": "python",
   "pygments_lexer": "ipython3",
   "version": "3.6.9"
  }
 },
 "nbformat": 4,
 "nbformat_minor": 5
}

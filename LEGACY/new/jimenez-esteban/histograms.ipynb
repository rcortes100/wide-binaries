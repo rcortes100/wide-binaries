{
 "cells": [
  {
   "cell_type": "code",
   "execution_count": 1,
   "id": "polyphonic-finger",
   "metadata": {},
   "outputs": [],
   "source": [
    "%matplotlib inline"
   ]
  },
  {
   "cell_type": "code",
   "execution_count": 2,
   "id": "unable-wheel",
   "metadata": {
    "tags": []
   },
   "outputs": [],
   "source": [
    "import pandas as pd\n",
    "import numpy as np\n",
    "import matplotlib.pylab as plt"
   ]
  },
  {
   "cell_type": "code",
   "execution_count": 3,
   "id": "residential-prevention",
   "metadata": {},
   "outputs": [],
   "source": [
    "kappa = 1000*(np.pi/(180*3600*1000))*(3.08567802E13)/(3.1558149984E7)"
   ]
  },
  {
   "cell_type": "code",
   "execution_count": 4,
   "id": "scientific-setup",
   "metadata": {},
   "outputs": [],
   "source": [
    "def Vel_tang(pm,parallax):\n",
    "    return kappa*pm/parallax\n",
    "\n",
    "def Vel_tang_error(pm,parallax,pm_error,parallax_error):\n",
    "    return np.abs(Vel_tang(pm,parallax))*(np.abs(parallax_error/parallax)+np.abs(pm/pm_error))\n",
    "\n",
    "def U_vel(ra_sec,dec_sec,vel_ra,vel_dec,vel_rad):\n",
    "    sinra = np.sin(np.deg2rad(ra_sec))\n",
    "    cosra = np.cos(np.deg2rad(ra_sec))\n",
    "    sindec = np.sin(np.deg2rad(dec_sec))\n",
    "    cosdec = np.cos(np.deg2rad(dec_sec))\n",
    "    \n",
    "    return -vel_ra*sinra - vel_dec*cosra*sindec + vel_rad*cosra*cosdec\n",
    "\n",
    "def V_vel(ra_sec,dec_sec,vel_ra,vel_dec,vel_rad):\n",
    "    sinra = np.sin(np.deg2rad(ra_sec))\n",
    "    cosra = np.cos(np.deg2rad(ra_sec))\n",
    "    sindec = np.sin(np.deg2rad(dec_sec))\n",
    "    cosdec = np.cos(np.deg2rad(dec_sec))\n",
    "    \n",
    "    return -vel_ra*cosra - vel_dec*sinra*sindec + vel_rad*sinra*cosdec\n",
    "\n",
    "def W_vel(ra_sec,dec_sec,vel_ra,vel_dec,vel_rad):\n",
    "    sinra = np.sin(np.deg2rad(ra_sec))\n",
    "    cosra = np.cos(np.deg2rad(ra_sec))\n",
    "    sindec = np.sin(np.deg2rad(dec_sec))\n",
    "    cosdec = np.cos(np.deg2rad(dec_sec))\n",
    "    \n",
    "    return vel_dec*cosdec + vel_rad*sindec\n",
    "\n",
    "def Vel_ra(ra_pri,dec_pri,U,V,W):\n",
    "    sinra = np.sin(np.deg2rad(ra_pri))\n",
    "    cosra = np.cos(np.deg2rad(ra_pri))\n",
    "    \n",
    "    return -U*sinra + V*cosra\n",
    "\n",
    "def Vel_dec(ra_pri,dec_pri,U,V,W):\n",
    "    sinra = np.sin(np.deg2rad(ra_pri))\n",
    "    cosra = np.cos(np.deg2rad(ra_pri))\n",
    "    sindec = np.sin(np.deg2rad(dec_pri))\n",
    "    cosdec = np.cos(np.deg2rad(dec_pri))\n",
    "    \n",
    "    return -U*cosra*sindec - V*sinra*sindec + W*cosdec\n",
    "\n",
    "def Vel_radial(ra_pri,dec_pri,U,V,W):\n",
    "    sinra = np.sin(np.deg2rad(ra_pri))\n",
    "    cosra = np.cos(np.deg2rad(ra_pri))\n",
    "    sindec = np.sin(np.deg2rad(dec_pri))\n",
    "    cosdec = np.cos(np.deg2rad(dec_pri))\n",
    "    \n",
    "    return U*cosra*cosdec + V*sinra*cosdec + W*sindec"
   ]
  },
  {
   "cell_type": "markdown",
   "id": "controversial-disney",
   "metadata": {
    "tags": []
   },
   "source": [
    "### 1. Cargar la lista"
   ]
  },
  {
   "cell_type": "code",
   "execution_count": 5,
   "id": "stable-perspective",
   "metadata": {},
   "outputs": [],
   "source": [
    "tab = pd.read_pickle('../data_processed/je_seleccion_best.pkl')"
   ]
  },
  {
   "cell_type": "code",
   "execution_count": 6,
   "id": "straight-empire",
   "metadata": {},
   "outputs": [
    {
     "data": {
      "text/plain": [
       "Index(['ra1_x', 'dec1_x', 'Source_GaiaDR2_x', 'Sep_ang', 'Sep_sky',\n",
       "       'radial_velocity_x', 'radial_velocity_error_x', 'parallax_x',\n",
       "       'parallax_total_error_x', 'pmra_corrected_x', 'pmra_corrected_error_x',\n",
       "       'pmdec_corrected_x', 'pmdec_corrected_error_x', 'phot_g_mean_mag_x',\n",
       "       'phot_bp_mean_mag_x', 'phot_rp_mean_mag_x', 'RUWE_x', 'HRV_x',\n",
       "       'e_HRV_x', 'D_G_x', 'Teff_x', 'Teff_error_x', 'Av_x', 'Mass_x',\n",
       "       'Mass_error_x', 'U', 'U_error', 'td_x', 'td_error_x', 'tms_x',\n",
       "       'tms_error_x', 'ECAC_x', 'ra1_y', 'dec1_y', 'Source_GaiaDR2_y',\n",
       "       'radial_velocity_y', 'radial_velocity_error_y', 'parallax_y',\n",
       "       'parallax_total_error_y', 'pmra_corrected_y', 'pmra_corrected_error_y',\n",
       "       'pmdec_corrected_y', 'pmdec_corrected_error_y', 'phot_g_mean_mag_y',\n",
       "       'phot_bp_mean_mag_y', 'phot_rp_mean_mag_y', 'RUWE_y', 'HRV_y',\n",
       "       'e_HRV_y', 'D_G_y', 'Teff_y', 'Teff_error_y', 'Av_y', 'Mass_y',\n",
       "       'Mass_error_y', 'td_y', 'td_error_y', 'tms_y', 'tms_error_y', 'ECAC_y'],\n",
       "      dtype='object')"
      ]
     },
     "execution_count": 6,
     "metadata": {},
     "output_type": "execute_result"
    }
   ],
   "source": [
    "tab.columns"
   ]
  },
  {
   "cell_type": "markdown",
   "id": "french-suffering",
   "metadata": {
    "tags": []
   },
   "source": [
    "### 2. Pasar la velocidad de la secundaria al marco de ref de la primaria"
   ]
  },
  {
   "cell_type": "markdown",
   "id": "digital-stage",
   "metadata": {},
   "source": [
    "Crear columnas auxiliares y sus incertidumbres U,V,W"
   ]
  },
  {
   "cell_type": "code",
   "execution_count": 8,
   "id": "romance-charter",
   "metadata": {},
   "outputs": [],
   "source": [
    "\n",
    "tab['U'] = U_vel(tab.ra1_y,tab.dec1_y,\n",
    "                 Vel_tang(tab.pmra_corrected_y,tab.parallax_y),\n",
    "                 Vel_tang(tab.pmdec_corrected_y,tab.parallax_y),\n",
    "                 tab.radial_velocity_y)\n",
    "\n",
    "tab['V'] = V_vel(tab.ra1_y,tab.dec1_y,\n",
    "                 Vel_tang(tab.pmra_corrected_y,tab.parallax_y),\n",
    "                 Vel_tang(tab.pmdec_corrected_y,tab.parallax_y),\n",
    "                 tab.radial_velocity_y)\n",
    "\n",
    "tab['W'] = W_vel(tab.ra1_y,tab.dec1_y,\n",
    "                 Vel_tang(tab.pmra_corrected_y,tab.parallax_y),\n",
    "                 Vel_tang(tab.pmdec_corrected_y,tab.parallax_y),\n",
    "                 tab.radial_velocity_y)\n",
    "\n",
    "tab['U_err'] = U_vel(tab.ra1_y,tab.dec1_y,\n",
    "                     Vel_tang_error(tab.pmra_corrected_y,tab.parallax_y,\n",
    "                                    tab.pmra_corrected_error_y,\n",
    "                                    tab.parallax_total_error_y),\n",
    "                     Vel_tang_error(tab.pmdec_corrected_y,tab.parallax_y,\n",
    "                                    tab.pmdec_corrected_error_y,\n",
    "                                    tab.parallax_total_error_y),\n",
    "                     tab.radial_velocity_y)\n",
    "\n",
    "tab['V_err'] = U_vel(tab.ra1_y,tab.dec1_y,\n",
    "                     Vel_tang_error(tab.pmra_corrected_y,tab.parallax_y,\n",
    "                                    tab.pmra_corrected_error_y,\n",
    "                                    tab.parallax_total_error_y),\n",
    "                     Vel_tang_error(tab.pmdec_corrected_y,tab.parallax_y,\n",
    "                                    tab.pmdec_corrected_error_y,\n",
    "                                    tab.parallax_total_error_y),\n",
    "                     tab.radial_velocity_y)\n",
    "\n",
    "tab['W_err'] = U_vel(tab.ra1_y,tab.dec1_y,\n",
    "                     Vel_tang_error(tab.pmra_corrected_y,tab.parallax_y,\n",
    "                                    tab.pmra_corrected_error_y,\n",
    "                                    tab.parallax_total_error_y),\n",
    "                     Vel_tang_error(tab.pmdec_corrected_y,tab.parallax_y,\n",
    "                                    tab.pmdec_corrected_error_y,\n",
    "                                    tab.parallax_total_error_y),\n",
    "                     tab.radial_velocity_y)"
   ]
  },
  {
   "cell_type": "markdown",
   "id": "advanced-prediction",
   "metadata": {
    "tags": []
   },
   "source": [
    "### 3. Hacer la diferencia de velocidades y la separación entre estrellas"
   ]
  },
  {
   "cell_type": "code",
   "execution_count": 9,
   "id": "grateful-boring",
   "metadata": {},
   "outputs": [],
   "source": [
    "tab['vel_ra_x']  = Vel_tang(tab.pmra_corrected_x,tab.parallax_x)\n",
    "tab['vel_dec_x'] = Vel_tang(tab.pmdec_corrected_x,tab.parallax_x)"
   ]
  },
  {
   "cell_type": "code",
   "execution_count": 10,
   "id": "angry-fairy",
   "metadata": {},
   "outputs": [],
   "source": [
    "tab['dvel_ra']  = Vel_ra(tab.ra1_x,tab.dec1_x,tab.U,tab.V,tab.W)  - tab.vel_ra_x\n",
    "tab['dvel_dec'] = Vel_dec(tab.ra1_x,tab.dec1_x,tab.U,tab.V,tab.W) - tab.vel_dec_x\n",
    "\n",
    "tab['dvel_ra_err'] = np.abs(Vel_ra(tab.ra1_x,tab.dec1_x,tab.U_err,tab.V_err,tab.W_err)) +\\\n",
    "                     Vel_tang_error(tab.pmra_corrected_x,tab.parallax_total_error_x,\n",
    "                                    tab.pmra_corrected_error_x,tab.parallax_total_error_x)\n",
    "\n",
    "tab['dvel_dec_err'] = np.abs(Vel_dec(tab.ra1_x,tab.dec1_x,tab.U_err,tab.V_err,tab.W_err)) +\\\n",
    "                      Vel_tang_error(tab.pmdec_corrected_x,tab.parallax_total_error_x,\n",
    "                                     tab.pmdec_corrected_error_x,tab.parallax_total_error_x)"
   ]
  },
  {
   "cell_type": "code",
   "execution_count": 11,
   "id": "approximate-cancellation",
   "metadata": {},
   "outputs": [
    {
     "data": {
      "text/plain": [
       "count    534.000000\n",
       "mean      19.479006\n",
       "std       12.500992\n",
       "min        2.929042\n",
       "25%       11.577450\n",
       "50%       15.880099\n",
       "75%       23.604314\n",
       "max       96.013106\n",
       "dtype: float64"
      ]
     },
     "execution_count": 11,
     "metadata": {},
     "output_type": "execute_result"
    }
   ],
   "source": [
    "(tab.parallax_total_error_y*1000/tab.parallax_y).describe()"
   ]
  },
  {
   "cell_type": "markdown",
   "id": "special-personal",
   "metadata": {
    "tags": []
   },
   "source": [
    "### 4. Graficar los histogramas"
   ]
  },
  {
   "cell_type": "code",
   "execution_count": 10,
   "id": "dominant-waters",
   "metadata": {},
   "outputs": [
    {
     "data": {
      "application/vnd.jupyter.widget-view+json": {
       "model_id": "a301074288334f93b05fa402c64f7af4",
       "version_major": 2,
       "version_minor": 0
      },
      "text/plain": [
       "Canvas(toolbar=Toolbar(toolitems=[('Home', 'Reset original view', 'home', 'home'), ('Back', 'Back to previous …"
      ]
     },
     "metadata": {},
     "output_type": "display_data"
    },
    {
     "data": {
      "text/plain": [
       "[<matplotlib.lines.Line2D at 0x7f4ba992ec50>]"
      ]
     },
     "execution_count": 10,
     "metadata": {},
     "output_type": "execute_result"
    }
   ],
   "source": [
    "plt.plot(tab.dvel_ra)"
   ]
  },
  {
   "cell_type": "code",
   "execution_count": null,
   "id": "occupational-bullet",
   "metadata": {},
   "outputs": [],
   "source": []
  },
  {
   "cell_type": "markdown",
   "id": "italian-black",
   "metadata": {
    "tags": []
   },
   "source": [
    "### Extra: Obtener la relacion de masas"
   ]
  },
  {
   "cell_type": "code",
   "execution_count": 14,
   "id": "481b3a6a-1da0-4f9e-bbee-77b8e6fce0da",
   "metadata": {},
   "outputs": [
    {
     "data": {
      "application/vnd.jupyter.widget-view+json": {
       "model_id": "0b3bfec5814248b888325b6e4d598e8f",
       "version_major": 2,
       "version_minor": 0
      },
      "text/plain": [
       "Canvas(toolbar=Toolbar(toolitems=[('Home', 'Reset original view', 'home', 'home'), ('Back', 'Back to previous …"
      ]
     },
     "metadata": {},
     "output_type": "display_data"
    },
    {
     "data": {
      "text/plain": [
       "<AxesSubplot:xlabel='Mass_y', ylabel='Mass_x'>"
      ]
     },
     "execution_count": 14,
     "metadata": {},
     "output_type": "execute_result"
    }
   ],
   "source": [
    "tab.plot.scatter('Mass_y','Mass_x')"
   ]
  },
  {
   "cell_type": "code",
   "execution_count": null,
   "id": "b734f585-3c61-482a-bfb1-5a551a044b74",
   "metadata": {},
   "outputs": [],
   "source": []
  }
 ],
 "metadata": {
  "kernelspec": {
   "display_name": "Python 3 (ipykernel)",
   "language": "python",
   "name": "python3"
  },
  "language_info": {
   "codemirror_mode": {
    "name": "ipython",
    "version": 3
   },
   "file_extension": ".py",
   "mimetype": "text/x-python",
   "name": "python",
   "nbconvert_exporter": "python",
   "pygments_lexer": "ipython3",
   "version": "3.9.6"
  }
 },
 "nbformat": 4,
 "nbformat_minor": 5
}

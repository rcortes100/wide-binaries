{
 "cells": [
  {
   "cell_type": "markdown",
   "metadata": {
    "slideshow": {
     "slide_type": "slide"
    }
   },
   "source": [
    "# Analizar la lista de Jimenez-Esteban et al.(2019)"
   ]
  },
  {
   "cell_type": "code",
   "execution_count": 1,
   "metadata": {
    "slideshow": {
     "slide_type": "slide"
    }
   },
   "outputs": [],
   "source": [
    "%matplotlib nbagg\n",
    "from binaries import *"
   ]
  },
  {
   "cell_type": "markdown",
   "metadata": {},
   "source": [
    "## Cosas que no sé qué son"
   ]
  },
  {
   "cell_type": "code",
   "execution_count": 5,
   "metadata": {},
   "outputs": [],
   "source": [
    "# Exportar la tabla de csv a formato de p\n",
    "#pd.read_csv?\n",
    "pd.read_csv('../data_raw/comovingGaiaDR2_1557810818.csv').rename(columns={'#RA':'RA'}).to_pickle(picklefile)"
   ]
  },
  {
   "cell_type": "code",
   "execution_count": 16,
   "metadata": {},
   "outputs": [
    {
     "data": {
      "text/plain": [
       "Index(['RA', 'DEC', 'dis', 'ra1', 'dec1', 'Source_GaiaDR2', 'Source_Tycho2',\n",
       "       'sbname', 'sbname_link', 'GroupID', 'GroupSize', 'Sep_ang', 'Sep_sky',\n",
       "       'radial_velocity', 'radial_velocity_error', 'parallax',\n",
       "       'parallax_total_error', 'pmra_corrected', 'pmra_corrected_error',\n",
       "       'pmdec_corrected', 'pmdec_corrected_error', 'phot_g_mean_mag',\n",
       "       'phot_bp_mean_mag', 'phot_rp_mean_mag', 'RUWE', 'HRV', 'e_HRV', 'D_G',\n",
       "       'Teff', 'Teff_error', 'Av', 'Mass', 'Mass_error', 'U', 'U_error', 'td',\n",
       "       'td_error', 'tms', 'tms_error', 'ECAC'],\n",
       "      dtype='object')"
      ]
     },
     "execution_count": 16,
     "metadata": {},
     "output_type": "execute_result"
    }
   ],
   "source": [
    "#spl=pd.read_pickle(picklefile)\n",
    "x.columns"
   ]
  },
  {
   "cell_type": "code",
   "execution_count": 15,
   "metadata": {},
   "outputs": [],
   "source": [
    "#Cuales pares (o grupos comóviles) aparecen  en ambos catálogos\n",
    "\n",
    "spl = pd.read_csv('../data_raw/comovingGaiaDR2_1557810818.csv').rename(columns={'#RA':'RA'})\n",
    "x   = spl.sort_values(by='GroupID')\n",
    "#xx = pd.merge(x,x,how='outer',on='GroupID')\n",
    "xx=pd.merge(x,x,how='outer',on='GroupID')[['GroupID','GroupSize_x','Source_GaiaDR2_x','Source_GaiaDR2_y']]\n",
    "xx=xx[xx.Source_GaiaDR2_x > xx.Source_GaiaDR2_y]\n",
    "\n",
    "spl = pd.read_pickle('../data_processed/scarpa_dec_2018.pkl').rename(columns={'#id_1':'Id_x','id_2':'Id_y'})\n",
    "xxx = pd.merge(x,spl,how='inner',left_on='Source_GaiaDR2',right_on='Id_x')[['Source_GaiaDR2','GroupID','GroupSize','Id_x']]\n",
    "xxx.to_csv('crossmatch_01.csv')\n",
    "xxx = pd.merge(x,spl,how='inner',left_on='Source_GaiaDR2',right_on='Id_y')[['Source_GaiaDR2','GroupID','GroupSize','Id_y']]\n",
    "xxx.to_csv('crossmatch_02.csv')"
   ]
  },
  {
   "cell_type": "markdown",
   "metadata": {},
   "source": [
    "## Empieza el análisis de la lista de Jimenez"
   ]
  },
  {
   "cell_type": "code",
   "execution_count": 2,
   "metadata": {},
   "outputs": [],
   "source": [
    "#Importar Lista de Scarpa\n",
    "spl = pd.read_pickle('../data_processed/scarpa_dec_2018.pkl').rename(columns={'#id_1':'Id_x','id_2':'Id_y'})\n",
    "#Importar Lista de Jimenez\n",
    "jim = pd.read_pickle('jimenez-esteban2019.pkl').rename(columns={'Source_GaiaDR2_x':'Id_x',\n",
    "                                                                'Source_GaiaDR2_y':'Id_y'})"
   ]
  },
  {
   "cell_type": "code",
   "execution_count": 21,
   "metadata": {},
   "outputs": [],
   "source": [
    "columnas=[\n",
    "#    'solution_id','designation',\n",
    "    'source_id',\n",
    "#    'random_index','ref_epoch',\n",
    "    'ra','ra_error','dec','dec_error','parallax','parallax_error',\n",
    "#    'parallax_over_error',\n",
    "    'pmra','pmra_error','pmdec','pmdec_error',\n",
    "#    'ra_dec_corr','ra_parallax_corr','ra_pmra_corr','ra_pmdec_corr','dec_parallax_corr',\n",
    "#    'dec_pmra_corr','dec_pmdec_corr','parallax_pmra_corr','parallax_pmdec_corr','pmra_pmdec_corr',\n",
    "#    'astrometric_n_obs_al','astrometric_n_obs_ac','astrometric_n_good_obs_al','astrometric_n_bad_obs_al',\n",
    "#    'astrometric_gof_al','astrometric_chi2_al','astrometric_excess_noise','astrometric_excess_noise_sig',\n",
    "#    'astrometric_params_solved','astrometric_primary_flag','astrometric_weight_al','astrometric_pseudo_colour',\n",
    "#    'astrometric_pseudo_colour_error','mean_varpi_factor_al','astrometric_matched_observations',\n",
    "#    'visibility_periods_used','astrometric_sigma5d_max','frame_rotator_object_type','matched_observations',\n",
    "    'duplicated_source',\n",
    "#    'phot_g_n_obs',\n",
    "#    'phot_g_mean_flux','phot_g_mean_flux_error','phot_g_mean_flux_over_error',\n",
    "    'phot_g_mean_mag',\n",
    "#    'phot_bp_n_obs','phot_bp_mean_flux','phot_bp_mean_flux_error','phot_bp_mean_flux_over_error',\n",
    "    'phot_bp_mean_mag',\n",
    "#    'phot_rp_n_obs','phot_rp_mean_flux','phot_rp_mean_flux_error','phot_rp_mean_flux_over_error',\n",
    "    'phot_rp_mean_mag',\n",
    "#    'phot_bp_rp_excess_factor','phot_proc_mode',\n",
    "    'bp_rp','bp_g','g_rp',\n",
    "    'radial_velocity','radial_velocity_error',\n",
    "#    'rv_nb_transits','rv_template_teff','rv_template_logg','rv_template_fe_h','phot_variable_flag',\n",
    "#    'l','b','ecl_lon','ecl_lat','priam_flags',\n",
    "    'teff_val',\n",
    "#    'teff_percentile_lower','teff_percentile_upper',\n",
    "#    'a_g_val','a_g_percentile_lower','a_g_percentile_upper',\n",
    "#    'e_bp_min_rp_val','e_bp_min_rp_percentile_lower','e_bp_min_rp_percentile_upper',\n",
    "#    'flame_flags','radius_val','radius_percentile_lower','radius_percentile_upper',\n",
    "#    'lum_val','lum_percentile_lower','lum_percentile_upper',\n",
    "#    'datalink_url','epoch_photometry_url',\n",
    "#    'jimenez_oid',\n",
    "    'col_ra','dec.1','dis','ra1','dec1',\n",
    "#    'source_gaiadr2',\n",
    "    'source_tycho2',\n",
    "#    'sbname','sbname_link',\n",
    "    'groupid','groupsize',\n",
    "    'sep_ang','sep_sky',\n",
    "    'radial_velocity.1',\n",
    "    'radial_velocity_error.1',\n",
    "    'parallax.1','parallax_total_error',\n",
    "    'pmra_corrected','pmra_corrected_error','pmdec_corrected','pmdec_corrected_error',\n",
    "    'phot_g_mean_mag.1','phot_bp_mean_mag.1','phot_rp_mean_mag.1',\n",
    "    'ruwe',\n",
    "    'hrv','e_hrv',\n",
    "    'd_g',\n",
    "    'teff','teff_error',\n",
    "    'av',\n",
    "    'mass','mass_error',\n",
    "    'u','u_error',\n",
    "    'td','td_error',\n",
    "    'tms','tms_error',\n",
    "    'ecac']\n",
    "\n",
    "#Pickleizar el crossmatch con GAIA\n",
    "pd.read_csv('jimenez_on_gaia-result.csv',usecols=columnas).to_pickle('jimenez_on_gaia-result.pkl')"
   ]
  },
  {
   "cell_type": "code",
   "execution_count": 22,
   "metadata": {},
   "outputs": [],
   "source": [
    "#Crear lista de pares\n",
    "droplist=['groupsize','sep_ang','sep_sky']\n",
    "picklefile='jimenez_on_gaia-result.pkl'\n",
    "\n",
    "jim = pd.read_pickle(picklefile)\n",
    "jim = jim[jim.groupsize==2]\n",
    "\n",
    "jimbo = pd.merge(jim,\n",
    "                 jim.drop(columns=droplist),\n",
    "                 how='left', on='groupid')\n",
    "jimbo = jimbo[jimbo.source_id_x > jimbo.source_id_y]\n",
    "jimbo.to_pickle('../data_processed/jimenez_on_gaia_pairs_only.pkl')"
   ]
  }
 ],
 "metadata": {
  "kernelspec": {
   "display_name": "Python 3",
   "language": "python",
   "name": "python3"
  },
  "language_info": {
   "codemirror_mode": {
    "name": "ipython",
    "version": 3
   },
   "file_extension": ".py",
   "mimetype": "text/x-python",
   "name": "python",
   "nbconvert_exporter": "python",
   "pygments_lexer": "ipython3",
   "version": "3.9.5"
  }
 },
 "nbformat": 4,
 "nbformat_minor": 4
}
